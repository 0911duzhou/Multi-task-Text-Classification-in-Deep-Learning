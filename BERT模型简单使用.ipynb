{
 "cells": [
  {
   "cell_type": "code",
   "execution_count": 1,
   "id": "b337931f",
   "metadata": {},
   "outputs": [],
   "source": [
    "from tf2_bert.models import build_transformer_model\n",
    "from tf2_bert.tokenizers import Tokenizer\n",
    "import numpy as np"
   ]
  },
  {
   "cell_type": "code",
   "execution_count": 3,
   "id": "2241d606",
   "metadata": {},
   "outputs": [
    {
     "name": "stderr",
     "output_type": "stream",
     "text": [
      "C:\\Users\\31600\\AppData\\Local\\Packages\\PythonSoftwareFoundation.Python.3.10_qbz5n2kfra8p0\\LocalCache\\local-packages\\Python310\\site-packages\\keras\\initializers\\initializers_v2.py:120: UserWarning: The initializer TruncatedNormal is unseeded and being called multiple times, which will return identical values  each time (even if the initializer is unseeded). Please update your code to provide a seed to the initializer, or avoid using the same initalizer instance more than once.\n",
      "  warnings.warn(\n"
     ]
    },
    {
     "name": "stdout",
     "output_type": "stream",
     "text": [
      "['[CLS]', '机', '器', '学', '习', '[SEP]']\n"
     ]
    }
   ],
   "source": [
    "# 定义预训练模型路径\n",
    "model_dir = './chinese_roberta_wwm_ext_L-12_H-768_A-12'\n",
    "# BERT 参数\n",
    "config_path = model_dir+'/bert_config.json'\n",
    "# 保存模型权值参数的文件\n",
    "checkpoint_path = model_dir+'/bert_model.ckpt'\n",
    "# 词表\n",
    "dict_path = model_dir+'/vocab.txt'\n",
    "# 建立分词器\n",
    "tokenizer = Tokenizer(dict_path)"
   ]
  },
  {
   "cell_type": "markdown",
   "id": "140135bc",
   "metadata": {},
   "source": [
    "**文本特征提取**"
   ]
  },
  {
   "cell_type": "code",
   "execution_count": null,
   "id": "dde7f2b3",
   "metadata": {},
   "outputs": [],
   "source": [
    "# 建立模型，加载权重\n",
    "model = build_transformer_model(config_path, checkpoint_path)\n",
    "# 句子 0\n",
    "sentence0 = '机器学习'\n",
    "# 句子 1\n",
    "sentence1 = '深度学习'\n",
    "# 用分词器对句子分词\n",
    "tokens = tokenizer.tokenize(sentence0)\n",
    "# 分词后自动在句子前加上[CLS]，在句子后加上[SEP]\n",
    "print(tokens)"
   ]
  },
  {
   "cell_type": "code",
   "execution_count": 4,
   "id": "c0388c4f",
   "metadata": {},
   "outputs": [
    {
     "name": "stdout",
     "output_type": "stream",
     "text": [
      "token_ids: [101, 3322, 1690, 2110, 739, 102]\n",
      "segment_ids: [0, 0, 0, 0, 0, 0]\n"
     ]
    }
   ],
   "source": [
    "# 编码测试\n",
    "token_ids, segment_ids = tokenizer.encode(sentence0)\n",
    "# [CLS]的编号为 101，机为 3322，器为 1690，学为 2110，习为 739，[SEP]为 102\n",
    "print('token_ids:',token_ids)\n",
    "# 因为只有一个句子所以 segment_ids 都是 0\n",
    "print('segment_ids:',segment_ids)"
   ]
  },
  {
   "cell_type": "code",
   "execution_count": 5,
   "id": "faeddde3",
   "metadata": {},
   "outputs": [
    {
     "name": "stdout",
     "output_type": "stream",
     "text": [
      "token_ids: [101, 3322, 1690, 2110, 739, 102, 3918, 2428, 2110, 739, 102]\n",
      "segment_ids: [0, 0, 0, 0, 0, 0, 1, 1, 1, 1, 1]\n"
     ]
    }
   ],
   "source": [
    "# 编码测试\n",
    "token_ids, segment_ids = tokenizer.encode(sentence0,sentence1)\n",
    "# 可以看到两个句子分词后的结果为：\n",
    "# ['[CLS]', '机', '器', '学', '习', '[SEP]', '深', '度', '学', '习', [SEP]]\n",
    "print('token_ids:',token_ids)\n",
    "# 0 表示第一个句子的 token，1 表示第二个句子的 token\n",
    "print('segment_ids:',segment_ids)"
   ]
  },
  {
   "cell_type": "code",
   "execution_count": 6,
   "id": "69b368de",
   "metadata": {},
   "outputs": [
    {
     "name": "stdout",
     "output_type": "stream",
     "text": [
      "1/1 [==============================] - 4s 4s/step\n",
      "(1, 11, 768)\n"
     ]
    }
   ],
   "source": [
    "# 增加一个维度表示批次大小为 1\n",
    "token_ids = np.expand_dims(token_ids,axis=0)\n",
    "# 增加一个维度表示批次大小为 1\n",
    "segment_ids = np.expand_dims(segment_ids,axis=0)\n",
    "# 传入模型进行预测\n",
    "pre = model.predict([token_ids, segment_ids])\n",
    "# 得到的结果中 1 表示批次大小，11 表示 11 个 token，768 表示特征向量长度\n",
    "# 这里就是把句子的 token 转化为了特征向量\n",
    "print(pre.shape)"
   ]
  },
  {
   "cell_type": "markdown",
   "id": "a01a4dc4",
   "metadata": {},
   "source": [
    "**完形填空**"
   ]
  },
  {
   "cell_type": "code",
   "execution_count": 7,
   "id": "bb73d3e9",
   "metadata": {},
   "outputs": [
    {
     "name": "stdout",
     "output_type": "stream",
     "text": [
      "1/1 [==============================] - 2s 2s/step\n",
      "学习\n"
     ]
    }
   ],
   "source": [
    "# 建立模型，加载权重\n",
    "# with_mlm=True 表示使用 mlm 的功能，模型结构及最后的输出会发生一些变化，可以用来预测被 mask 的 token\n",
    "model = build_transformer_model(config_path, checkpoint_path, with_mlm=True)\n",
    "# 分词并转化为编码\n",
    "token_ids, segment_ids = tokenizer.encode('机器学习是一门交叉学科')\n",
    "# 把“学”字和“习”字变成“[MASK]”符号\n",
    "token_ids[3] = token_ids[4] = tokenizer._token_dict['[MASK]']\n",
    "# 增加一个维度表示批次大小为 1\n",
    "token_ids = np.expand_dims(token_ids,axis=0)\n",
    "# 增加一个维度表示批次大小为 1\n",
    "segment_ids = np.expand_dims(segment_ids,axis=0)\n",
    "# 传入模型进行预测\n",
    "pre = model.predict([token_ids, segment_ids])[0]\n",
    "# 我们可以看到第 3，4 个位置经过模型预测，[MASK]变成了“学习”\n",
    "print(tokenizer.decode(pre[3:5].argmax(axis=1)))"
   ]
  },
  {
   "cell_type": "code",
   "execution_count": 8,
   "id": "ead6395b",
   "metadata": {},
   "outputs": [
    {
     "name": "stdout",
     "output_type": "stream",
     "text": [
      "1/1 [==============================] - 0s 143ms/step\n",
      "什么\n"
     ]
    }
   ],
   "source": [
    "# 分词并转化为编码\n",
    "token_ids, segment_ids = tokenizer.encode('机器学习是一门交叉学科')\n",
    "# 把“交”字和“叉”字变成“[MASK]”符号\n",
    "token_ids[8] = token_ids[9] = tokenizer._token_dict['[MASK]']\n",
    "# 增加一个维度表示批次大小为 1\n",
    "token_ids = np.expand_dims(token_ids,axis=0)\n",
    "# 增加一个维度表示批次大小为 1\n",
    "segment_ids = np.expand_dims(segment_ids,axis=0)\n",
    "# 传入模型进行预测\n",
    "pre = model.predict([token_ids, segment_ids])[0]\n",
    "# 我们可以看到第 8，9 个位置经过模型预测，[MASK]变成了“什么”，句子变成了一个疑问句\n",
    "# 虽然模型没有预测出原始句子的词汇，不过作为完形填空，填入一个“什么”句子也是正确\n",
    "print(tokenizer.decode(pre[8:10].argmax(axis=1)))"
   ]
  },
  {
   "cell_type": "code",
   "execution_count": null,
   "id": "907804a4",
   "metadata": {},
   "outputs": [],
   "source": []
  },
  {
   "cell_type": "code",
   "execution_count": null,
   "id": "abf4104c",
   "metadata": {},
   "outputs": [],
   "source": []
  },
  {
   "cell_type": "code",
   "execution_count": null,
   "id": "624e2a06",
   "metadata": {},
   "outputs": [],
   "source": []
  },
  {
   "cell_type": "code",
   "execution_count": null,
   "id": "6d6e8b54",
   "metadata": {},
   "outputs": [],
   "source": []
  },
  {
   "cell_type": "code",
   "execution_count": null,
   "id": "effa4009",
   "metadata": {},
   "outputs": [],
   "source": []
  },
  {
   "cell_type": "code",
   "execution_count": null,
   "id": "0f425d7a",
   "metadata": {},
   "outputs": [],
   "source": []
  }
 ],
 "metadata": {
  "kernelspec": {
   "display_name": "Python 3 (ipykernel)",
   "language": "python",
   "name": "python3"
  },
  "language_info": {
   "codemirror_mode": {
    "name": "ipython",
    "version": 3
   },
   "file_extension": ".py",
   "mimetype": "text/x-python",
   "name": "python",
   "nbconvert_exporter": "python",
   "pygments_lexer": "ipython3",
   "version": "3.10.10"
  }
 },
 "nbformat": 4,
 "nbformat_minor": 5
}
