{
 "cells": [
  {
   "cell_type": "code",
   "execution_count": 10,
   "id": "9bf486d6",
   "metadata": {},
   "outputs": [],
   "source": [
    "from tensorflow.keras.datasets import imdb\n",
    "from tensorflow.keras.preprocessing import sequence\n",
    "from tensorflow.keras.models import Sequential\n",
    "from tensorflow.keras.layers import Dense, Dropout, Embedding, Conv1D, GlobalMaxPooling1D\n",
    "from tensorflow.keras.utils import plot_model"
   ]
  },
  {
   "cell_type": "code",
   "execution_count": 2,
   "id": "e750ce8b",
   "metadata": {},
   "outputs": [],
   "source": [
    "# 定义最大词汇数\n",
    "max_words = 10000\n",
    "# 定义最长句子，即句子词汇数量\n",
    "maxlen = 400\n",
    "batch_size = 128\n",
    "# 定义词向量长度\n",
    "embedding_dims = 128\n",
    "epochs = 5\n",
    "# 定义滤波器数量\n",
    "filters = 64\n",
    "# 卷积核大小\n",
    "kernel_size = 3"
   ]
  },
  {
   "cell_type": "code",
   "execution_count": 4,
   "id": "2784f268",
   "metadata": {},
   "outputs": [
    {
     "name": "stdout",
     "output_type": "stream",
     "text": [
      "[1, 591, 202, 14, 31, 6, 717, 10, 10, 2, 2, 5, 4, 360, 7, 4, 177, 5760, 394, 354, 4, 123, 9, 1035, 1035, 1035, 10, 10, 13, 92, 124, 89, 488, 7944, 100, 28, 1668, 14, 31, 23, 27, 7479, 29, 220, 468, 8, 124, 14, 286, 170, 8, 157, 46, 5, 27, 239, 16, 179, 2, 38, 32, 25, 7944, 451, 202, 14, 6, 717]\n"
     ]
    }
   ],
   "source": [
    "# 加载数据集，只保留频率最高的前max_words个词\n",
    "# 其中，出现频率越高编号越小     0 -> padding  1 -> <start>   2 -> OOV（Out-of-vocabulary）  3 -> 预留\n",
    "(x_train, y_train), (x_test, y_test) = imdb.load_data(num_words=max_words)\n",
    "# 查看测试集第0个句子\n",
    "print(x_test[0])"
   ]
  },
  {
   "cell_type": "code",
   "execution_count": 6,
   "id": "41888181",
   "metadata": {},
   "outputs": [
    {
     "name": "stdout",
     "output_type": "stream",
     "text": [
      "[START] please give this one a miss br br [OOV] [OOV] and the rest of the cast rendered terrible performances the show is flat flat flat br br i don't know how michael madison could have allowed this one on his plate he almost seemed to know this wasn't going to work out and his performance was quite [OOV] so all you madison fans give this a miss\n"
     ]
    }
   ],
   "source": [
    "# 获得数据集字典   key->英语词汇  value->编号\n",
    "# 需要注意的是，数据集中的编号-3才能得到这个字典的编号\n",
    "word2id = imdb.get_word_index()\n",
    "\n",
    "id2word = dict([(value + 3, key) for (key, value) in word2id.items()])\n",
    "\n",
    "# 设置预留字符\n",
    "id2word[3] = '[RESERVE]'\n",
    "# 设置Out-of-vocabulary字符\n",
    "id2word[2] = '[OOV]'\n",
    "# 设置起始字符\n",
    "id2word[1] = '[START]'\n",
    "# 设置填充字符\n",
    "id2word[0] = '[PAD]'\n",
    "\n",
    "decoded_review = ' '.join([id2word.get(i, '?') for i in x_test[0]])\n",
    "print(decoded_review)"
   ]
  },
  {
   "cell_type": "code",
   "execution_count": 7,
   "id": "2361ac38",
   "metadata": {},
   "outputs": [
    {
     "name": "stdout",
     "output_type": "stream",
     "text": [
      "x_train.shape:(25000, 400)\n",
      "x_test.shape:(25000, 400)\n",
      "[   0    0    0    0    0    0    0    0    0    0    0    0    0    0\n",
      "    0    0    0    0    0    0    0    0    0    0    0    0    0    0\n",
      "    0    0    0    0    0    0    0    0    0    0    0    0    0    0\n",
      "    0    0    0    0    0    0    0    0    0    0    0    0    0    0\n",
      "    0    0    0    0    0    0    0    0    0    0    0    0    0    0\n",
      "    0    0    0    0    0    0    0    0    0    0    0    0    0    0\n",
      "    0    0    0    0    0    0    0    0    0    0    0    0    0    0\n",
      "    0    0    0    0    0    0    0    0    0    0    0    0    0    0\n",
      "    0    0    0    0    0    0    0    0    0    0    0    0    0    0\n",
      "    0    0    0    0    0    0    0    0    0    0    0    0    0    0\n",
      "    0    0    0    0    0    0    0    0    0    0    0    0    0    0\n",
      "    0    0    0    0    0    0    0    0    0    0    0    0    0    0\n",
      "    0    0    0    0    0    0    0    0    0    0    0    0    0    0\n",
      "    0    0    0    0    0    0    0    0    0    0    0    0    0    0\n",
      "    0    0    0    0    0    0    0    0    0    0    0    0    0    0\n",
      "    0    0    0    0    0    0    0    0    0    0    0    0    0    0\n",
      "    0    0    0    0    0    0    0    0    0    0    0    0    0    0\n",
      "    0    0    0    0    0    0    0    0    0    0    0    0    0    0\n",
      "    0    0    0    0    0    0    0    0    0    0    0    0    0    0\n",
      "    0    0    0    0    0    0    0    0    0    0    0    0    0    0\n",
      "    0    0    0    0    0    0    0    0    0    0    0    0    0    0\n",
      "    0    0    0    0    0    0    0    0    0    0    0    0    0    0\n",
      "    0    0    0    0    0    0    0    0    0    0    0    0    0    0\n",
      "    0    0    0    0    0    0    0    0    0    0    1  591  202   14\n",
      "   31    6  717   10   10    2    2    5    4  360    7    4  177 5760\n",
      "  394  354    4  123    9 1035 1035 1035   10   10   13   92  124   89\n",
      "  488 7944  100   28 1668   14   31   23   27 7479   29  220  468    8\n",
      "  124   14  286  170    8  157   46    5   27  239   16  179    2   38\n",
      "   32   25 7944  451  202   14    6  717]\n"
     ]
    }
   ],
   "source": [
    "# 序列填充，因为模型结构是固定的而句子的长度是不固定的，所以我们需要把句子变成相同的长度\n",
    "# 如果句子长度不足 maxlen，则把句子填充到 maxlen 的长度(前填充)，如果句子长度超过 maxlen，则取句子前 maxlen 个词\n",
    "x_train = sequence.pad_sequences(x_train, maxlen=maxlen)\n",
    "x_test = sequence.pad_sequences(x_test, maxlen=maxlen)\n",
    "\n",
    "print(f'x_train.shape:{x_train.shape}')\n",
    "print(f'x_test.shape:{x_test.shape}')\n",
    "print(x_test[0])"
   ]
  },
  {
   "cell_type": "code",
   "execution_count": 11,
   "id": "4868962d",
   "metadata": {},
   "outputs": [
    {
     "data": {
      "image/png": "[encoded data removed]",
      "text/plain": [
       "<IPython.core.display.Image object>"
      ]
     },
     "execution_count": 11,
     "metadata": {},
     "output_type": "execute_result"
    }
   ],
   "source": [
    "# 构建模型\n",
    "model = Sequential()\n",
    "# Embedding 是一个权值矩阵，包含所有词汇的词向量，Embedding 的行数等于词汇数，列数等于词向量长度\n",
    "# Embedding 的作用是获得每个词对应的词向量，这里的词向量是没有经过预训练的随机值，会跟随模型一起训练\n",
    "# max_words 词汇数，embedding_dims 词向量长度\n",
    "# 模型训练时数据输入为(batch, maxlen)\n",
    "model.add(Embedding(max_words,embedding_dims))\n",
    "# 设置一个一维卷积\n",
    "model.add(Conv1D(filters,kernel_size,strides=1,padding='same',activation='relu'))\n",
    "# 卷积计算后得到的数据为(batch, maxlen, filters)\n",
    "# GlobalMaxPooling1D-全局最大池化计算每一张特征图的最大值\n",
    "# 池化后得到(batch, filters)\n",
    "model.add(GlobalMaxPooling1D())\n",
    "# 加上 Dropout\n",
    "model.add(Dropout(0.5))\n",
    "# 最后 2 分类，设置 2 个神经元\n",
    "model.add(Dense(2,activation='softmax'))\n",
    "# 画图\n",
    "plot_model(model)"
   ]
  },
  {
   "cell_type": "code",
   "execution_count": 12,
   "id": "dd27b9f5",
   "metadata": {},
   "outputs": [],
   "source": [
    "model.compile(loss='sparse_categorical_crossentropy',\n",
    "                optimizer='adam',\n",
    "                metrics=['accuracy'])\n"
   ]
  },
  {
   "cell_type": "code",
   "execution_count": 13,
   "id": "d8bef06a",
   "metadata": {},
   "outputs": [
    {
     "name": "stdout",
     "output_type": "stream",
     "text": [
      "Epoch 1/5\n",
      "196/196 [==============================] - 9s 11ms/step - loss: 0.5415 - accuracy: 0.7174 - val_loss: 0.3703 - val_accuracy: 0.8403\n",
      "Epoch 2/5\n",
      "196/196 [==============================] - 2s 11ms/step - loss: 0.3498 - accuracy: 0.8498 - val_loss: 0.3046 - val_accuracy: 0.8742\n",
      "Epoch 3/5\n",
      "196/196 [==============================] - 2s 10ms/step - loss: 0.2689 - accuracy: 0.8916 - val_loss: 0.2875 - val_accuracy: 0.8780\n",
      "Epoch 4/5\n",
      "196/196 [==============================] - 2s 10ms/step - loss: 0.2022 - accuracy: 0.9270 - val_loss: 0.2934 - val_accuracy: 0.8762\n",
      "Epoch 5/5\n",
      "196/196 [==============================] - 2s 11ms/step - loss: 0.1555 - accuracy: 0.9454 - val_loss: 0.3077 - val_accuracy: 0.8742\n"
     ]
    },
    {
     "data": {
      "text/plain": [
       "<keras.callbacks.History at 0x22897035ab0>"
      ]
     },
     "execution_count": 13,
     "metadata": {},
     "output_type": "execute_result"
    }
   ],
   "source": [
    "# 训练模型\n",
    "model.fit(x_train, y_train,\n",
    "            batch_size=batch_size,\n",
    "            epochs=epochs,\n",
    "            validation_data=(x_test, y_test))"
   ]
  },
  {
   "cell_type": "code",
   "execution_count": null,
   "id": "aa6dbfdd",
   "metadata": {},
   "outputs": [],
   "source": []
  },
  {
   "cell_type": "code",
   "execution_count": null,
   "id": "528a602f",
   "metadata": {},
   "outputs": [],
   "source": []
  },
  {
   "cell_type": "code",
   "execution_count": null,
   "id": "b64ab6ad",
   "metadata": {},
   "outputs": [],
   "source": []
  },
  {
   "cell_type": "code",
   "execution_count": null,
   "id": "d88931e4",
   "metadata": {},
   "outputs": [],
   "source": []
  },
  {
   "cell_type": "code",
   "execution_count": null,
   "id": "b3626964",
   "metadata": {},
   "outputs": [],
   "source": []
  },
  {
   "cell_type": "code",
   "execution_count": null,
   "id": "3eb1f003",
   "metadata": {},
   "outputs": [],
   "source": []
  },
  {
   "cell_type": "code",
   "execution_count": null,
   "id": "fdc567ba",
   "metadata": {},
   "outputs": [],
   "source": []
  },
  {
   "cell_type": "code",
   "execution_count": null,
   "id": "9aa00d01",
   "metadata": {},
   "outputs": [],
   "source": []
  }
 ],
 "metadata": {
  "kernelspec": {
   "display_name": "Python 3 (ipykernel)",
   "language": "python",
   "name": "python3"
  },
  "language_info": {
   "codemirror_mode": {
    "name": "ipython",
    "version": 3
   },
   "file_extension": ".py",
   "mimetype": "text/x-python",
   "name": "python",
   "nbconvert_exporter": "python",
   "pygments_lexer": "ipython3",
   "version": "3.10.10"
  }
 },
 "nbformat": 4,
 "nbformat_minor": 5
}